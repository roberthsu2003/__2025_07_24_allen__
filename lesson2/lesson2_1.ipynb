{
 "cells": [
  {
   "cell_type": "code",
   "execution_count": 1,
   "id": "023cf711",
   "metadata": {},
   "outputs": [
    {
     "name": "stdout",
     "output_type": "stream",
     "text": [
      "Hello! Python!\n"
     ]
    }
   ],
   "source": [
    "print(\"Hello! Python!\")"
   ]
  },
  {
   "cell_type": "code",
   "execution_count": 1,
   "id": "44191458",
   "metadata": {},
   "outputs": [
    {
     "name": "stdout",
     "output_type": "stream",
     "text": [
      "請計算梯型面積\n",
      "==============\n",
      "梯型面積: 123.0\n"
     ]
    }
   ],
   "source": [
    "print(\"請計算梯型面積\")\n",
    "print(\"==============\")\n",
    "top = float(input(\"請輸入上底:\"))\n",
    "bottom = float(input(\"請輸入下底:\"))\n",
    "height = float(input(\"請輸入高:\"))\n",
    "area = (top + bottom) * height / 2\n",
    "print(\"梯型面積:\",round(area, ndigits=2))"
   ]
  },
  {
   "cell_type": "code",
   "execution_count": 3,
   "id": "91b876ae",
   "metadata": {},
   "outputs": [
    {
     "name": "stdout",
     "output_type": "stream",
     "text": [
      "======畢氐定理======\n",
      "對邊: 3.0\n",
      "鄰邊: 4.0\n",
      "斜邊: 5.0\n"
     ]
    }
   ],
   "source": [
    "import math\n",
    "\n",
    "side = float(input(\"請輸入對邊:\"))\n",
    "another_side = float(input(\"請輸入鄰邊:\"))\n",
    "c = math.sqrt(side ** 2 + another_side ** 2)\n",
    "\n",
    "print(\"======畢氐定理======\")\n",
    "print(\"對邊:\", side)\n",
    "print(\"鄰邊:\", another_side)\n",
    "print(\"斜邊:\", c)"
   ]
  },
  {
   "cell_type": "code",
   "execution_count": null,
   "id": "14438edb",
   "metadata": {},
   "outputs": [
    {
     "data": {
      "text/plain": [
       "'===================='"
      ]
     },
     "execution_count": 5,
     "metadata": {},
     "output_type": "execute_result"
    }
   ],
   "source": [
    "\"apple\" + \",banana\"\n",
    "\"=\" * 20"
   ]
  },
  {
   "cell_type": "code",
   "execution_count": 7,
   "id": "aa3fc3cb",
   "metadata": {},
   "outputs": [
    {
     "data": {
      "text/plain": [
       "'apple有3個,banana有5個,pipeapple有6個.'"
      ]
     },
     "execution_count": 7,
     "metadata": {},
     "output_type": "execute_result"
    }
   ],
   "source": [
    "apple = 3\n",
    "banana = 5\n",
    "pipeapple = 6\n",
    "\n",
    "\"apple有\" + str(apple) + \"個,banana有\" + str(banana) + \"個,pipeapple有\" + str(pipeapple) + \"個.\""
   ]
  },
  {
   "cell_type": "code",
   "execution_count": 12,
   "id": "c53acf25",
   "metadata": {},
   "outputs": [
    {
     "name": "stdout",
     "output_type": "stream",
     "text": [
      "apple有3個,banana有5個,pipeapple有6個.\n",
      "\n",
      "總共有14\n"
     ]
    }
   ],
   "source": [
    "apple = 3\n",
    "banana = 5\n",
    "pipeapple = 6\n",
    "\n",
    "#format-string\n",
    "#字串格式化\n",
    "#字串插補\n",
    "\n",
    "summary = f\"apple有{apple}個,banana有{banana}個,pipeapple有{pipeapple}個.\\n\\n總共有{apple + banana + pipeapple}\"\n",
    "print(summary)"
   ]
  },
  {
   "cell_type": "code",
   "execution_count": null,
   "id": "af66ac12",
   "metadata": {},
   "outputs": [
    {
     "name": "stdout",
     "output_type": "stream",
     "text": [
      "〔記者吳亮儀／台北報導〕\n",
      "\n",
      "颱風范斯高在今天（25日）上午8時減弱為熱帶性低氣壓，位在菲律賓附近的輕颱竹節草也將在明天（26日）減弱為熱帶性低氣壓，都不會侵襲台灣。\n",
      "中央氣象署提醒，白天北部雨大，今晚起換南部降雨。\n"
     ]
    }
   ],
   "source": [
    "news = \"〔記者吳亮儀／台北報導〕\\n\\n颱風范斯高在今天（25日）上午8時減弱為熱帶性低氣壓，位在菲律賓附近的輕颱竹節草也將在明天（26日）減弱為熱帶性低氣壓，都不會侵襲台灣。\\n中央氣象署提醒，白天北部雨大，今晚起換南部降雨。\"\n",
    "print(news)"
   ]
  },
  {
   "cell_type": "markdown",
   "id": "858fed34",
   "metadata": {},
   "source": [
    "### 多行文字"
   ]
  },
  {
   "cell_type": "code",
   "execution_count": 19,
   "id": "e7588f7e",
   "metadata": {},
   "outputs": [
    {
     "name": "stdout",
     "output_type": "stream",
     "text": [
      "〔記者吳亮儀／台北報導〕\n",
      "\n",
      "颱風范斯高在今天（25日）上午8時減弱為熱帶性低氣壓，位在菲律賓附近的輕颱竹節草也將在明天（26日）減弱為熱帶性低氣壓，都不會侵襲台灣。\n",
      "中央氣象署提醒，白天北部雨大，今晚起換南部降雨。\n"
     ]
    }
   ],
   "source": [
    "summary = \"\"\"〔記者吳亮儀／台北報導〕\n",
    "\n",
    "颱風范斯高在今天（25日）上午8時減弱為熱帶性低氣壓，位在菲律賓附近的輕颱竹節草也將在明天（26日）減弱為熱帶性低氣壓，都不會侵襲台灣。\n",
    "中央氣象署提醒，白天北部雨大，今晚起換南部降雨。\"\"\"\n",
    "print(summary)"
   ]
  }
 ],
 "metadata": {
  "kernelspec": {
   "display_name": "base",
   "language": "python",
   "name": "python3"
  },
  "language_info": {
   "codemirror_mode": {
    "name": "ipython",
    "version": 3
   },
   "file_extension": ".py",
   "mimetype": "text/x-python",
   "name": "python",
   "nbconvert_exporter": "python",
   "pygments_lexer": "ipython3",
   "version": "3.13.2"
  }
 },
 "nbformat": 4,
 "nbformat_minor": 5
}
