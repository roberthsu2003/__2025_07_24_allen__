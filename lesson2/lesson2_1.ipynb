{
 "cells": [
  {
   "cell_type": "code",
   "execution_count": 1,
   "id": "023cf711",
   "metadata": {},
   "outputs": [
    {
     "name": "stdout",
     "output_type": "stream",
     "text": [
      "Hello! Python!\n"
     ]
    }
   ],
   "source": [
    "print(\"Hello! Python!\")"
   ]
  },
  {
   "cell_type": "code",
   "execution_count": 1,
   "id": "44191458",
   "metadata": {},
   "outputs": [
    {
     "name": "stdout",
     "output_type": "stream",
     "text": [
      "請計算梯型面積\n",
      "==============\n",
      "梯型面積: 123.0\n"
     ]
    }
   ],
   "source": [
    "print(\"請計算梯型面積\")\n",
    "print(\"==============\")\n",
    "top = float(input(\"請輸入上底:\"))\n",
    "bottom = float(input(\"請輸入下底:\"))\n",
    "height = float(input(\"請輸入高:\"))\n",
    "area = (top + bottom) * height / 2\n",
    "print(\"梯型面積:\",round(area, ndigits=2))"
   ]
  },
  {
   "cell_type": "code",
   "execution_count": 3,
   "id": "91b876ae",
   "metadata": {},
   "outputs": [
    {
     "name": "stdout",
     "output_type": "stream",
     "text": [
      "======畢氐定理======\n",
      "對邊: 3.0\n",
      "鄰邊: 4.0\n",
      "斜邊: 5.0\n"
     ]
    }
   ],
   "source": [
    "import math\n",
    "\n",
    "side = float(input(\"請輸入對邊:\"))\n",
    "another_side = float(input(\"請輸入鄰邊:\"))\n",
    "c = math.sqrt(side ** 2 + another_side ** 2)\n",
    "\n",
    "print(\"======畢氐定理======\")\n",
    "print(\"對邊:\", side)\n",
    "print(\"鄰邊:\", another_side)\n",
    "print(\"斜邊:\", c)"
   ]
  }
 ],
 "metadata": {
  "kernelspec": {
   "display_name": "base",
   "language": "python",
   "name": "python3"
  },
  "language_info": {
   "codemirror_mode": {
    "name": "ipython",
    "version": 3
   },
   "file_extension": ".py",
   "mimetype": "text/x-python",
   "name": "python",
   "nbconvert_exporter": "python",
   "pygments_lexer": "ipython3",
   "version": "3.13.2"
  }
 },
 "nbformat": 4,
 "nbformat_minor": 5
}
